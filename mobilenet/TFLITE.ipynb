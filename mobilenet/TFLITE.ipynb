{
 "cells": [
  {
   "cell_type": "code",
   "execution_count": 3,
   "source": [
    "from tflite_runtime.interpreter import Interpreter \r\n",
    "from PIL import Image\r\n",
    "import numpy as np\r\n",
    "import time\r\n",
    "\r\n",
    "def load_labels(path): # Read the labels from the text file as a Python list.\r\n",
    "  with open(path, 'r') as f:\r\n",
    "    return [line.strip() for i, line in enumerate(f.readlines())]\r\n",
    "\r\n",
    "def set_input_tensor(interpreter, image):\r\n",
    "  tensor_index = interpreter.get_input_details()[0]['index']\r\n",
    "  input_tensor = interpreter.tensor(tensor_index)()[0]\r\n",
    "  input_tensor[:, :] = image\r\n",
    "\r\n",
    "def classify_image(interpreter, image, top_k=1):\r\n",
    "  set_input_tensor(interpreter, image)\r\n",
    "\r\n",
    "  interpreter.invoke()\r\n",
    "  output_details = interpreter.get_output_details()[0]\r\n",
    "  output = np.squeeze(interpreter.get_tensor(output_details['index']))\r\n",
    "\r\n",
    "  scale, zero_point = output_details['quantization']\r\n",
    "  output = scale * (output - zero_point)\r\n",
    "\r\n",
    "  ordered = np.argpartition(-output, 1)\r\n",
    "  return [(i, output[i]) for i in ordered[:top_k]][0]\r\n",
    "\r\n",
    "data_folder = \"./\"\r\n",
    "\r\n",
    "model_path = data_folder + \"mobilenet_v1_1.0_224_quant.tflite\"\r\n",
    "label_path = data_folder + \"labels_mobilenet_quant_v1_224.txt\"\r\n",
    "\r\n",
    "interpreter = Interpreter(model_path)\r\n",
    "print(\"Model Loaded Successfully.\")\r\n",
    "\r\n",
    "interpreter.allocate_tensors()\r\n",
    "_, height, width, _ = interpreter.get_input_details()[0]['shape']\r\n",
    "print(\"Image Shape (\", width, \",\", height, \")\")\r\n",
    "\r\n",
    "# Load an image to be classified.\r\n",
    "image = Image.open(data_folder + \"test.jpg\").convert('RGB').resize((width, height))\r\n",
    "\r\n",
    "# Classify the image.\r\n",
    "time1 = time.time()\r\n",
    "label_id, prob = classify_image(interpreter, image)\r\n",
    "time2 = time.time()\r\n",
    "classification_time = np.round(time2-time1, 3)\r\n",
    "print(\"Classificaiton Time =\", classification_time, \"seconds.\")\r\n",
    "\r\n",
    "# Read class labels.\r\n",
    "labels = load_labels(label_path)\r\n",
    "\r\n",
    "# Return the classification label of the image.\r\n",
    "classification_label = labels[label_id]\r\n",
    "print(\"Image Label is :\", classification_label, \", with Accuracy :\", np.round(prob*100, 2), \"%.\")"
   ],
   "outputs": [
    {
     "output_type": "error",
     "ename": "RuntimeError",
     "evalue": "module compiled against API version 0xe but this version of numpy is 0xd",
     "traceback": [
      "\u001b[1;31m---------------------------------------------------------------------------\u001b[0m",
      "\u001b[1;31mRuntimeError\u001b[0m                              Traceback (most recent call last)",
      "\u001b[1;31mRuntimeError\u001b[0m: module compiled against API version 0xe but this version of numpy is 0xd"
     ]
    },
    {
     "output_type": "error",
     "ename": "SystemError",
     "evalue": "<built-in method CreateWrapperFromFile of PyCapsule object at 0x00000256B97F7600> returned a result with an error set",
     "traceback": [
      "\u001b[1;31m---------------------------------------------------------------------------\u001b[0m",
      "\u001b[1;31mImportError\u001b[0m                               Traceback (most recent call last)",
      "\u001b[1;31mImportError\u001b[0m: numpy.core.multiarray failed to import",
      "\nThe above exception was the direct cause of the following exception:\n",
      "\u001b[1;31mSystemError\u001b[0m                               Traceback (most recent call last)",
      "\u001b[1;32m<ipython-input-3-a06c09b04d81>\u001b[0m in \u001b[0;36m<module>\u001b[1;34m\u001b[0m\n\u001b[0;32m     31\u001b[0m \u001b[0mlabel_path\u001b[0m \u001b[1;33m=\u001b[0m \u001b[0mdata_folder\u001b[0m \u001b[1;33m+\u001b[0m \u001b[1;34m\"labels_mobilenet_quant_v1_224.txt\"\u001b[0m\u001b[1;33m\u001b[0m\u001b[1;33m\u001b[0m\u001b[0m\n\u001b[0;32m     32\u001b[0m \u001b[1;33m\u001b[0m\u001b[0m\n\u001b[1;32m---> 33\u001b[1;33m \u001b[0minterpreter\u001b[0m \u001b[1;33m=\u001b[0m \u001b[0mInterpreter\u001b[0m\u001b[1;33m(\u001b[0m\u001b[0mmodel_path\u001b[0m\u001b[1;33m)\u001b[0m\u001b[1;33m\u001b[0m\u001b[1;33m\u001b[0m\u001b[0m\n\u001b[0m\u001b[0;32m     34\u001b[0m \u001b[0mprint\u001b[0m\u001b[1;33m(\u001b[0m\u001b[1;34m\"Model Loaded Successfully.\"\u001b[0m\u001b[1;33m)\u001b[0m\u001b[1;33m\u001b[0m\u001b[1;33m\u001b[0m\u001b[0m\n\u001b[0;32m     35\u001b[0m \u001b[1;33m\u001b[0m\u001b[0m\n",
      "\u001b[1;32m~\\anaconda3\\lib\\site-packages\\tflite_runtime\\interpreter.py\u001b[0m in \u001b[0;36m__init__\u001b[1;34m(self, model_path, model_content, experimental_delegates, num_threads, experimental_op_resolver_type, experimental_preserve_all_tensors)\u001b[0m\n\u001b[0;32m    346\u001b[0m       ]\n\u001b[0;32m    347\u001b[0m       self._interpreter = (\n\u001b[1;32m--> 348\u001b[1;33m           _interpreter_wrapper.CreateWrapperFromFile(\n\u001b[0m\u001b[0;32m    349\u001b[0m               \u001b[0mmodel_path\u001b[0m\u001b[1;33m,\u001b[0m \u001b[0mop_resolver_id\u001b[0m\u001b[1;33m,\u001b[0m \u001b[0mcustom_op_registerers_by_name\u001b[0m\u001b[1;33m,\u001b[0m\u001b[1;33m\u001b[0m\u001b[1;33m\u001b[0m\u001b[0m\n\u001b[0;32m    350\u001b[0m               \u001b[0mcustom_op_registerers_by_func\u001b[0m\u001b[1;33m,\u001b[0m\u001b[1;33m\u001b[0m\u001b[1;33m\u001b[0m\u001b[0m\n",
      "\u001b[1;31mSystemError\u001b[0m: <built-in method CreateWrapperFromFile of PyCapsule object at 0x00000256B97F7600> returned a result with an error set"
     ]
    }
   ],
   "metadata": {}
  }
 ],
 "metadata": {
  "orig_nbformat": 4,
  "language_info": {
   "name": "python",
   "version": "3.8.5",
   "mimetype": "text/x-python",
   "codemirror_mode": {
    "name": "ipython",
    "version": 3
   },
   "pygments_lexer": "ipython3",
   "nbconvert_exporter": "python",
   "file_extension": ".py"
  },
  "kernelspec": {
   "name": "python3",
   "display_name": "Python 3.8.5 64-bit ('base': conda)"
  },
  "interpreter": {
   "hash": "6c75b02bff8d9997b98a719376f9b42a9ebcb506f885a06f1c913b951b045571"
  }
 },
 "nbformat": 4,
 "nbformat_minor": 2
}